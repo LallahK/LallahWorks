{
 "cells": [
  {
   "cell_type": "markdown",
   "metadata": {},
   "source": [
    "# A Short  Introduction to Python, NumPy and the Jupyter iPython notebook"
   ]
  },
  {
   "cell_type": "markdown",
   "metadata": {},
   "source": [
    "### Markdown.\n",
    "\n",
    "\"Markdown\" allows you to write simple, easy-to-understand text that is then converted to html. Apart from allowing you to create beautiful web pages, it also understands LaTeX. One can therefore create mathematics such as, \n",
    " $$ I = \\int_0^1 e^{-x^2} dx. $$ \n",
    " Unfortunately it does not understand all LaTeX commands but Nelis Willers has developed an extension that will give you access to all LaTeX facilities. It is worth visiting his github repository at https://github.com/NelisW?tab=repositories\n",
    "\n",
    "You can  learn more about markdown at  https://help.github.com/articles/markdown-basics/."
   ]
  },
  {
   "cell_type": "markdown",
   "metadata": {},
   "source": [
    "### Very general overview\n",
    "Python itself gives one access to basic, built-in data structures. It also provides basic functionality like  'while' statemens, functions and classes (with particularly simple syntax). It does not, for example, allow any matrix operations. In fact it does not understand the concept of a matrix.\n",
    "Its real power derives from the large number of external libraries that are available. One gets access to the functionality built into the libraries by 'importing' the libraries. Four important ones for scientific purposes are:\n",
    "* **numpy** - a library that allows for definition and manipulation of matrices.\n",
    "* **scipy** - the scientific Python library. Note that there is a huge overlap with numpy. As a rule of thumb: If it is available in numpy, use the numpy functionality.  The full numpy and scipy documentation is at http://docs.scipy.org/doc/ .\n",
    "* **matplotlib** - a plotting library with, as the name suggests, plotting functions that mimics what is available in matlab. A user's guide is at http://matplotlib.org/1.5.0/users/index.html .\n",
    "* **pandas** - a data analysis toolkit. More information is at http://pandas.pydata.org/pandas-docs/stable/ ."
   ]
  },
  {
   "cell_type": "markdown",
   "metadata": {},
   "source": [
    "### So what is iPython?\n",
    "\n",
    "It is basically an environment for interactive computing using Python, here one should really mention the name of Fernando Perez who had the vision and did something about it (while procrastinating from his PhD!). The notebook is more recent and at first was tied closely to iPython. It was then realized that the notebook part is really language agnostic, at which time it became a separate project independent of Python called Jupyter. iPython continues to provide a Python kernel for Jupyter. Please visit the iPython webpage at http://ipython.org/ where you will find all sorts of useful material, including several tutorials."
   ]
  },
  {
   "cell_type": "markdown",
   "metadata": {},
   "source": [
    "### Developing your own code\n",
    "\n",
    "Since the notebook is a document that is supposed to readable, it is not the place to put large amounts of code. Of course you will eventually develop more complex code and the way to do it, is to put is into a seperate file with extension `.py`. This file can be as complex as you need it to be, i.e. it can contain any amount of code, broken down into several different functions, classes, etc. But it is a good idea to organise your code into coherent units (`.py` files).\n",
    "\n",
    "You get hold of your code in the notebook by importing it, exactly as we import the numpy library below."
   ]
  },
  {
   "cell_type": "markdown",
   "metadata": {},
   "source": [
    "### Magic commands\n",
    "You have a number of \"magic\" commands available that basically tell the notebook how to behave.\n",
    "The one we use most often tells the notebook that all figures should be part of the notebook, i.e. they should not open in separate windows:"
   ]
  },
  {
   "cell_type": "code",
   "execution_count": 6,
   "metadata": {
    "collapsed": false
   },
   "outputs": [],
   "source": [
    "%matplotlib inline "
   ]
  },
  {
   "cell_type": "markdown",
   "metadata": {},
   "source": [
    "### Importing libraries or files. \n",
    "\n",
    "Here we import the libraries scientists use all the time:\n",
    "\n"
   ]
  },
  {
   "cell_type": "code",
   "execution_count": 5,
   "metadata": {
    "collapsed": false
   },
   "outputs": [],
   "source": [
    "import numpy as np\n",
    "import scipy as sc\n",
    "from matplotlib import pylab as plt"
   ]
  },
  {
   "cell_type": "code",
   "execution_count": 9,
   "metadata": {
    "collapsed": true
   },
   "outputs": [],
   "source": [
    "np.array?"
   ]
  },
  {
   "cell_type": "markdown",
   "metadata": {},
   "source": [
    "### Inside the libraries\n",
    "\n",
    "How does one find out what one can do with these libraries? First there is the documentation of course, with the links given above. But iPython provides a convenient interactive way. \n",
    "\n",
    "To see what is inside the numpy library, type (in a code cell), `np.<tab>`. You should see a (very long) list containing all the attributes of the library. \n",
    "\n",
    "Now let us say you are interested in learning more about `np.array`. In a code cell type `np.array?` and execute the cell. The documentation of the function should appear in your browser.\n",
    "\n",
    "By the way, it is useful to learn the shortcuts for the instructions you execute most frequently. All shortcuts are available under the `help` button."
   ]
  },
  {
   "cell_type": "markdown",
   "metadata": {},
   "source": [
    "### First example.\n",
    "\n",
    "Let us go straight to a simple example."
   ]
  },
  {
   "cell_type": "code",
   "execution_count": 23,
   "metadata": {
    "collapsed": false
   },
   "outputs": [
    {
     "data": {
      "image/png": "[encoded data removed]",
      "text/plain": [
       "<Figure size 432x288 with 1 Axes>"
      ]
     },
     "metadata": {},
     "output_type": "display_data"
    }
   ],
   "source": [
    "x = np.linspace(0.,2*np.pi, 100)\n",
    "y = np.cosh(x)\n",
    "\n",
    "plt.plot(x,y)\n",
    "plt.show()"
   ]
  },
  {
   "cell_type": "code",
   "execution_count": 24,
   "metadata": {
    "collapsed": true
   },
   "outputs": [],
   "source": [
    "np.linspace?"
   ]
  },
  {
   "cell_type": "markdown",
   "metadata": {},
   "source": [
    "### Everything is an object\n",
    "\n",
    "Python supports the object-oriented paradigm, and roughly speaking, everything can be viewed as an object, including the two 'variables' $x$ and $y$ we defined above. Objects have methods (behaving like functions) and attributes (values) assmociated with them. This basically means that there is functionality associated with an object that allows us to manipulate the object (like transposing an array), or retrieve  information about the object.\n",
    "\n",
    "In order to find out what attributes are associated with, say $y$, type `y.<tab>` in a code cell. You should see a fairly long list of attributes. Let us try two of them:"
   ]
  },
  {
   "cell_type": "markdown",
   "metadata": {
    "collapsed": false
   },
   "source": [
    "y."
   ]
  },
  {
   "cell_type": "code",
   "execution_count": 27,
   "metadata": {
    "collapsed": false
   },
   "outputs": [
    {
     "data": {
      "text/plain": [
       "(100,)"
      ]
     },
     "execution_count": 27,
     "metadata": {},
     "output_type": "execute_result"
    }
   ],
   "source": [
    "y.shape"
   ]
  },
  {
   "cell_type": "code",
   "execution_count": 8,
   "metadata": {
    "collapsed": false
   },
   "outputs": [
    {
     "data": {
      "text/plain": [
       "49.5"
      ]
     },
     "execution_count": 8,
     "metadata": {},
     "output_type": "execute_result"
    }
   ],
   "source": [
    "y.dot(y)"
   ]
  },
  {
   "cell_type": "markdown",
   "metadata": {},
   "source": [
    "Do you see the difference between the two. The first, `y.shape`, returns attributes associated with the object (useful information about the object); in this case it tells us that it is an $100$ array, i.e. a column vector. \n",
    "\n",
    "The second `y.dot(y)` is a method that operates on $y$. The method takes an argument, and in that sense behaves like a function. The difference between a `method` and a `function` is that a `method` has an argument, usually called `self`, that binds it to the object. A function is not bound to an object and does not have the special `self` parameter. In this example the `dot` method  calculates the dot product between $y$ and $y$ (i.e. $y$ with itself).\n",
    "\n",
    "**Note:** `attribute` is actually the collective name for both methods as well as the variables living inside an object. In our use we try and be precise when we mean `method` and use `attribute` for the everythig else."
   ]
  },
  {
   "cell_type": "markdown",
   "metadata": {},
   "source": [
    "** While Python 2.7 and various other languages use separate rules for integer division (i.e. 1/2 = 0) vs. floating point division, this is not the case in Python 3.5:**"
   ]
  },
  {
   "cell_type": "code",
   "execution_count": 30,
   "metadata": {
    "collapsed": false
   },
   "outputs": [
    {
     "name": "stdout",
     "output_type": "stream",
     "text": [
      "0\n",
      "0.5\n"
     ]
    }
   ],
   "source": [
    "print (int(1/2))\n",
    "print (1./2)"
   ]
  },
  {
   "cell_type": "markdown",
   "metadata": {},
   "source": [
    "### Indentation. \n",
    "\n",
    "Indentation is one of the more unusual features of Python. If you are like me, you will learn to like it! By the way, Python programming standards recommend that you do the indentation using spaces, and not the `<tab>` key - see https://stackoverflow.com/questions/119562/tabs-versus-spaces-in-python-programming for more about this.  Although the number of spaces to use is not prescribed, 4 spaces per level of indentation is pretty standard.\n",
    "\n",
    "To be more specific: Code blocks are indicated by indentation. There are no commands like, `begin` or  `end`. What happens is that the colon indicates that a code block is following. Many editors, and Jupyter in particular, understand this and will automatically do the indentation for you. All you have to do is tell it when to stop. \n",
    "\n",
    "Let's look at the following examples. "
   ]
  },
  {
   "cell_type": "code",
   "execution_count": 10,
   "metadata": {
    "collapsed": false
   },
   "outputs": [
    {
     "name": "stdout",
     "output_type": "stream",
     "text": [
      "0\n",
      "1\n",
      "2\n",
      "3\n",
      "4\n",
      "5\n",
      "6\n",
      "7\n",
      "8\n",
      "9\n"
     ]
    }
   ],
   "source": [
    "x = 0\n",
    "while x<10:\n",
    "    print (x)\n",
    "    x += 1"
   ]
  },
  {
   "cell_type": "code",
   "execution_count": 11,
   "metadata": {
    "collapsed": false
   },
   "outputs": [
    {
     "name": "stdout",
     "output_type": "stream",
     "text": [
      "0\n",
      "1\n",
      "2\n",
      "3\n",
      "4\n",
      "5\n",
      "6\n",
      "7\n",
      "8\n",
      "9\n"
     ]
    }
   ],
   "source": [
    "for x in range(10):\n",
    "    print (x)"
   ]
  },
  {
   "cell_type": "markdown",
   "metadata": {},
   "source": [
    "### Functions\n",
    "\n",
    "This is how we define a function. Note that we have assigned a default value to $x$. This is not necessary but useful. If you don't specify a value, the default is used."
   ]
  },
  {
   "cell_type": "code",
   "execution_count": 33,
   "metadata": {
    "collapsed": false
   },
   "outputs": [
    {
     "data": {
      "image/png": "[encoded data removed]",
      "text/plain": [
       "<Figure size 432x288 with 1 Axes>"
      ]
     },
     "metadata": {},
     "output_type": "display_data"
    }
   ],
   "source": [
    "def f(x=1):\n",
    "    y = x**2\n",
    "    return y\n",
    "\n",
    "\n",
    "x = np.asarray(range(20))\n",
    "y = f(x)\n",
    "plt.plot(x,y)\n",
    "plt.show()"
   ]
  },
  {
   "cell_type": "markdown",
   "metadata": {},
   "source": [
    "### Using the default value"
   ]
  },
  {
   "cell_type": "code",
   "execution_count": 34,
   "metadata": {
    "collapsed": false
   },
   "outputs": [
    {
     "name": "stdout",
     "output_type": "stream",
     "text": [
      "1\n"
     ]
    }
   ],
   "source": [
    "print (f())"
   ]
  },
  {
   "cell_type": "markdown",
   "metadata": {},
   "source": [
    "### Data structures\n",
    "Python has very useful data structures.\n",
    "\n",
    "The simplest data structure is the tuple. You can access its entries, but you can't change them. You will most often encounter them as the return of a function call. Earlier we defined a numpy array which we called x. Let us try the following:"
   ]
  },
  {
   "cell_type": "code",
   "execution_count": 14,
   "metadata": {
    "collapsed": false
   },
   "outputs": [
    {
     "data": {
      "text/plain": [
       "(20,)"
      ]
     },
     "execution_count": 14,
     "metadata": {},
     "output_type": "execute_result"
    }
   ],
   "source": [
    "x.shape     "
   ]
  },
  {
   "cell_type": "markdown",
   "metadata": {},
   "source": [
    "### Tuples\n",
    "The returned value for the shape is a tuple. It tells us that x is one-dimensional, and has 20 entries. Now try:"
   ]
  },
  {
   "cell_type": "code",
   "execution_count": 15,
   "metadata": {
    "collapsed": false
   },
   "outputs": [
    {
     "name": "stdout",
     "output_type": "stream",
     "text": [
      "(20,)\n",
      "20\n"
     ]
    }
   ],
   "source": [
    "m = x.shape\n",
    "print (m)\n",
    "print (m[0])"
   ]
  },
  {
   "cell_type": "markdown",
   "metadata": {},
   "source": [
    "Do you see the difference between m and m[0]? \n",
    "### Note: \n",
    "* **Indexing in Python starts at 0.**\n",
    "* Remember the comma if you want to define a tuple with only one entry!"
   ]
  },
  {
   "cell_type": "markdown",
   "metadata": {},
   "source": [
    "### Lists\n",
    "The next  useful datastructure is the list:"
   ]
  },
  {
   "cell_type": "code",
   "execution_count": 46,
   "metadata": {
    "collapsed": false
   },
   "outputs": [],
   "source": [
    "numbers = [1.,2.,3.,4.,5.]"
   ]
  },
  {
   "cell_type": "markdown",
   "metadata": {},
   "source": [
    "### A small detour\n",
    "\n",
    "Convert to numpy array"
   ]
  },
  {
   "cell_type": "code",
   "execution_count": 17,
   "metadata": {
    "collapsed": false
   },
   "outputs": [
    {
     "name": "stdout",
     "output_type": "stream",
     "text": [
      "float64\n"
     ]
    }
   ],
   "source": [
    "numbers = np.asarray(numbers)\n",
    "print (numbers.dtype)"
   ]
  },
  {
   "cell_type": "markdown",
   "metadata": {},
   "source": [
    "Convert to integers:"
   ]
  },
  {
   "cell_type": "code",
   "execution_count": 39,
   "metadata": {
    "collapsed": false
   },
   "outputs": [
    {
     "ename": "NameError",
     "evalue": "name 'numbers' is not defined",
     "output_type": "error",
     "traceback": [
      "\u001b[0;31m---------------------------------------------------------------------------\u001b[0m",
      "\u001b[0;31mNameError\u001b[0m                                 Traceback (most recent call last)",
      "\u001b[0;32m<ipython-input-39-772610328686>\u001b[0m in \u001b[0;36m<module>\u001b[0;34m()\u001b[0m\n\u001b[0;32m----> 1\u001b[0;31m \u001b[0mnumbers\u001b[0m \u001b[0;34m=\u001b[0m \u001b[0mnp\u001b[0m\u001b[0;34m.\u001b[0m\u001b[0masarray\u001b[0m\u001b[0;34m(\u001b[0m\u001b[0mnumbers\u001b[0m\u001b[0;34m,\u001b[0m \u001b[0mdtype\u001b[0m\u001b[0;34m=\u001b[0m\u001b[0mint\u001b[0m\u001b[0;34m)\u001b[0m\u001b[0;34m\u001b[0m\u001b[0m\n\u001b[0m\u001b[1;32m      2\u001b[0m \u001b[0mprint\u001b[0m \u001b[0;34m(\u001b[0m\u001b[0mnumbers\u001b[0m\u001b[0;34m.\u001b[0m\u001b[0mdtype\u001b[0m\u001b[0;34m)\u001b[0m\u001b[0;34m\u001b[0m\u001b[0m\n\u001b[1;32m      3\u001b[0m \u001b[0;32mfor\u001b[0m \u001b[0mi\u001b[0m \u001b[0;32min\u001b[0m \u001b[0mlength\u001b[0m\u001b[0;34m(\u001b[0m\u001b[0mnumbers\u001b[0m\u001b[0;34m)\u001b[0m\u001b[0;34m:\u001b[0m\u001b[0;34m\u001b[0m\u001b[0m\n\u001b[1;32m      4\u001b[0m     \u001b[0mprint\u001b[0m \u001b[0;34m(\u001b[0m\u001b[0mnumbers\u001b[0m\u001b[0;34m[\u001b[0m\u001b[0mi\u001b[0m\u001b[0;34m]\u001b[0m\u001b[0;34m)\u001b[0m\u001b[0;34m\u001b[0m\u001b[0m\n",
      "\u001b[0;31mNameError\u001b[0m: name 'numbers' is not defined"
     ]
    }
   ],
   "source": [
    "numbers = np.asarray(numbers, dtype=int)\n",
    "print (numbers.dtype)"
   ]
  },
  {
   "cell_type": "markdown",
   "metadata": {},
   "source": [
    "### Back to lists\n",
    "First redefine `numbers` as a list"
   ]
  },
  {
   "cell_type": "code",
   "execution_count": 19,
   "metadata": {
    "collapsed": true
   },
   "outputs": [],
   "source": [
    "numbers = [1.,2.,3.,4.,5.]"
   ]
  },
  {
   "cell_type": "markdown",
   "metadata": {},
   "source": [
    "\n",
    "### A few useful list operations:\n",
    "\n",
    "The first is unexpected but useful. It also means that a list behaves very differently from matrices (numpy arrays)."
   ]
  },
  {
   "cell_type": "code",
   "execution_count": 20,
   "metadata": {
    "collapsed": false
   },
   "outputs": [
    {
     "name": "stdout",
     "output_type": "stream",
     "text": [
      "[1.0, 2.0, 3.0, 4.0, 5.0, 1.0, 2.0, 3.0, 4.0, 5.0]\n",
      "[1.0, 2.0, 3.0, 4.0, 5.0, 1.0, 2.0, 3.0, 4.0, 5.0]\n"
     ]
    }
   ],
   "source": [
    "print (numbers+numbers)\n",
    "print (2*numbers)\n"
   ]
  },
  {
   "cell_type": "markdown",
   "metadata": {},
   "source": [
    "### Slicing:"
   ]
  },
  {
   "cell_type": "code",
   "execution_count": 21,
   "metadata": {
    "collapsed": false
   },
   "outputs": [
    {
     "name": "stdout",
     "output_type": "stream",
     "text": [
      "[1.0, 2.0]\n"
     ]
    }
   ],
   "source": [
    "print (numbers[:2]) # print the first two entries."
   ]
  },
  {
   "cell_type": "code",
   "execution_count": 22,
   "metadata": {
    "collapsed": false
   },
   "outputs": [
    {
     "name": "stdout",
     "output_type": "stream",
     "text": [
      "[3.0, 4.0]\n"
     ]
    }
   ],
   "source": [
    "print (numbers[2:4]) #Here you need to remember that indexing starts at 0."
   ]
  },
  {
   "cell_type": "code",
   "execution_count": 23,
   "metadata": {
    "collapsed": false
   },
   "outputs": [
    {
     "name": "stdout",
     "output_type": "stream",
     "text": [
      "[4.0, 5.0]\n"
     ]
    }
   ],
   "source": [
    "print (numbers[3:]) # Print from the 3rd index until the end."
   ]
  },
  {
   "cell_type": "code",
   "execution_count": 24,
   "metadata": {
    "collapsed": false
   },
   "outputs": [
    {
     "name": "stdout",
     "output_type": "stream",
     "text": [
      "5.0\n",
      "4.0\n"
     ]
    }
   ],
   "source": [
    "print (numbers[-1]) # Print the last entry.\n",
    "print (numbers[-2]) # Print the second last entry."
   ]
  },
  {
   "cell_type": "code",
   "execution_count": 25,
   "metadata": {
    "collapsed": false
   },
   "outputs": [
    {
     "name": "stdout",
     "output_type": "stream",
     "text": [
      "5\n"
     ]
    }
   ],
   "source": [
    "print (len(numbers))"
   ]
  },
  {
   "cell_type": "code",
   "execution_count": 26,
   "metadata": {
    "collapsed": false
   },
   "outputs": [
    {
     "name": "stdout",
     "output_type": "stream",
     "text": [
      "[1.0, 2.0, 3.0, 4.0, 5.0, 10.0]\n"
     ]
    }
   ],
   "source": [
    "numbers.append(10.) # Add 10 to the end of the list.\n",
    "print (numbers)"
   ]
  },
  {
   "cell_type": "markdown",
   "metadata": {},
   "source": [
    "### Dictionaries\n",
    "One of Python's handy features is the built-in dictionary.\n",
    "\n",
    "Dictionaries consist  of a `key` and an associated `value`. Let us try a simple example. We want to save the phone numbers and age of Bob, Ted and Alice. We create a dictionary with keys, Bob, Ted, and Alice. Each value asociated with a key is another dictionary with its own keys, phone, and age, with their respective values:"
   ]
  },
  {
   "cell_type": "code",
   "execution_count": 52,
   "metadata": {
    "collapsed": false
   },
   "outputs": [],
   "source": [
    "people ={'Bob' : {'age' : 40 ,'phone' : '021'}, 'Ted' : {'age' : 50,'phone' : '012'}, 'Alice' : {'age' : 29, 'phone' : '051'}}"
   ]
  },
  {
   "cell_type": "code",
   "execution_count": 53,
   "metadata": {
    "collapsed": false
   },
   "outputs": [
    {
     "data": {
      "text/plain": [
       "{'age': 40, 'phone': '021'}"
      ]
     },
     "execution_count": 53,
     "metadata": {},
     "output_type": "execute_result"
    }
   ],
   "source": [
    "people['Bob']"
   ]
  },
  {
   "cell_type": "code",
   "execution_count": 54,
   "metadata": {
    "collapsed": false
   },
   "outputs": [
    {
     "data": {
      "text/plain": [
       "50"
      ]
     },
     "execution_count": 54,
     "metadata": {},
     "output_type": "execute_result"
    }
   ],
   "source": [
    "people['Ted']['age']"
   ]
  },
  {
   "cell_type": "code",
   "execution_count": 55,
   "metadata": {
    "collapsed": false
   },
   "outputs": [
    {
     "data": {
      "text/plain": [
       "dict_keys(['Bob', 'Alice', 'Ted'])"
      ]
     },
     "execution_count": 55,
     "metadata": {},
     "output_type": "execute_result"
    }
   ],
   "source": [
    "people.keys()  # Retrieving the keys"
   ]
  },
  {
   "cell_type": "code",
   "execution_count": 56,
   "metadata": {
    "collapsed": false
   },
   "outputs": [],
   "source": [
    "people['Ben'] = {'age': 100,'phone':'082'}   # Adding a new entry into the dictionary"
   ]
  },
  {
   "cell_type": "code",
   "execution_count": 57,
   "metadata": {
    "collapsed": false
   },
   "outputs": [
    {
     "data": {
      "text/plain": [
       "dict_keys(['Ben', 'Bob', 'Alice', 'Ted'])"
      ]
     },
     "execution_count": 57,
     "metadata": {},
     "output_type": "execute_result"
    }
   ],
   "source": [
    "people.keys()"
   ]
  },
  {
   "cell_type": "code",
   "execution_count": 58,
   "metadata": {
    "collapsed": false
   },
   "outputs": [],
   "source": [
    "people['Abdullah'] = {'age': 20, 'phone': '082'}"
   ]
  },
  {
   "cell_type": "markdown",
   "metadata": {},
   "source": [
    "### Note\n",
    "The order of the entries in a dictionay is arbitrary."
   ]
  },
  {
   "cell_type": "code",
   "execution_count": 59,
   "metadata": {
    "collapsed": false
   },
   "outputs": [
    {
     "data": {
      "text/plain": [
       "{'age': 20, 'phone': '082'}"
      ]
     },
     "execution_count": 59,
     "metadata": {},
     "output_type": "execute_result"
    }
   ],
   "source": [
    "people['Abdullah']"
   ]
  },
  {
   "cell_type": "markdown",
   "metadata": {},
   "source": [
    "### Numpy \n",
    "Above we saw that lists in Python behave very unlike matrix arrays. The numpy library provides just about all the matrix operations you'll ever need. You will use numpy a lot. Let us try a few simple examples."
   ]
  },
  {
   "cell_type": "code",
   "execution_count": 60,
   "metadata": {
    "collapsed": false
   },
   "outputs": [
    {
     "name": "stdout",
     "output_type": "stream",
     "text": [
      "[[1. 2. 3.]\n",
      " [1. 1. 1.]]\n"
     ]
    }
   ],
   "source": [
    "A = np.array([[1.,2.,3.],[1,1,1]]) \n",
    "print (A)"
   ]
  },
  {
   "cell_type": "code",
   "execution_count": 61,
   "metadata": {
    "collapsed": false
   },
   "outputs": [
    {
     "name": "stdout",
     "output_type": "stream",
     "text": [
      "(2, 3)\n"
     ]
    }
   ],
   "source": [
    "print (A.shape)"
   ]
  },
  {
   "cell_type": "markdown",
   "metadata": {},
   "source": [
    "It is a 2x3 matrix.\n",
    "\n",
    "### Transpose"
   ]
  },
  {
   "cell_type": "code",
   "execution_count": 62,
   "metadata": {
    "collapsed": false
   },
   "outputs": [
    {
     "name": "stdout",
     "output_type": "stream",
     "text": [
      "[[1. 1.]\n",
      " [2. 1.]\n",
      " [3. 1.]]\n"
     ]
    }
   ],
   "source": [
    "print (A.T)  # Easy way to get the transpose"
   ]
  },
  {
   "cell_type": "markdown",
   "metadata": {},
   "source": [
    "### Matrix multiplication. \n",
    "First define a vector $x$, we want to calculate the product $Ax$. This is done using the Numpy function, `dot`. \n",
    "### Note:\n",
    "* Matrix multiplication $AB$ consists of taking the dot products between the rows of $A$ and the columns of $B$."
   ]
  },
  {
   "cell_type": "code",
   "execution_count": 37,
   "metadata": {
    "collapsed": false
   },
   "outputs": [
    {
     "data": {
      "text/plain": [
       "array([[ 6.],\n",
       "       [ 3.]])"
      ]
     },
     "execution_count": 37,
     "metadata": {},
     "output_type": "execute_result"
    }
   ],
   "source": [
    "x = np.array([[1],[1],[1]])\n",
    "A.dot(x)"
   ]
  },
  {
   "cell_type": "markdown",
   "metadata": {},
   "source": [
    "### Another example"
   ]
  },
  {
   "cell_type": "code",
   "execution_count": 38,
   "metadata": {
    "collapsed": false
   },
   "outputs": [
    {
     "data": {
      "text/plain": [
       "array([[  9.,  11.],\n",
       "       [  4.,   5.]])"
      ]
     },
     "execution_count": 38,
     "metadata": {},
     "output_type": "execute_result"
    }
   ],
   "source": [
    "B = np.array([[1,1],[1,2],[2,2]])\n",
    "A.dot(B)"
   ]
  },
  {
   "cell_type": "markdown",
   "metadata": {},
   "source": [
    "### Be aware:\n",
    "There is one peculiarity that trips people up all the time. Look at the following example."
   ]
  },
  {
   "cell_type": "code",
   "execution_count": 39,
   "metadata": {
    "collapsed": false
   },
   "outputs": [
    {
     "name": "stdout",
     "output_type": "stream",
     "text": [
      "(3,)\n"
     ]
    }
   ],
   "source": [
    "x = np.array([1,2,1])\n",
    "print (x.shape)\n"
   ]
  },
  {
   "cell_type": "code",
   "execution_count": 40,
   "metadata": {
    "collapsed": false
   },
   "outputs": [
    {
     "name": "stdout",
     "output_type": "stream",
     "text": [
      "[1 2 1]\n"
     ]
    }
   ],
   "source": [
    "print (x)\n"
   ]
  },
  {
   "cell_type": "markdown",
   "metadata": {},
   "source": [
    "At first, this may look like a row vector. Let's try and take its transpose:"
   ]
  },
  {
   "cell_type": "code",
   "execution_count": 41,
   "metadata": {
    "collapsed": false
   },
   "outputs": [
    {
     "name": "stdout",
     "output_type": "stream",
     "text": [
      "[1 2 1]\n"
     ]
    }
   ],
   "source": [
    "print (x.T)"
   ]
  },
  {
   "cell_type": "markdown",
   "metadata": {},
   "source": [
    "**Nothing happened!** \n",
    "This is because $x$ is not a (2-dimensional) matrix, but a 1-dimensional array more akin to a list. Such a structure does not have a notion of a \"row\" or a \"column\" vector, so transposition does not work as expected.\n",
    "\n",
    "**There are different ways of fixing it.**"
   ]
  },
  {
   "cell_type": "code",
   "execution_count": 42,
   "metadata": {
    "collapsed": false
   },
   "outputs": [
    {
     "name": "stdout",
     "output_type": "stream",
     "text": [
      "(1, 3)\n",
      "[[1 2 1]]\n"
     ]
    }
   ],
   "source": [
    "y = np.array([[1, 2, 1]])  # Define it to have two dimensions\n",
    "print (y.shape)\n",
    "print (y)"
   ]
  },
  {
   "cell_type": "markdown",
   "metadata": {},
   "source": [
    "$y$ is now a 1x3 matrix, i.e. a row vector."
   ]
  },
  {
   "cell_type": "code",
   "execution_count": 43,
   "metadata": {
    "collapsed": false
   },
   "outputs": [
    {
     "name": "stdout",
     "output_type": "stream",
     "text": [
      "(3, 1)\n"
     ]
    }
   ],
   "source": [
    "print (y.T.shape)  # This is a column vector."
   ]
  },
  {
   "cell_type": "markdown",
   "metadata": {},
   "source": [
    "**Adding an axis**\n",
    "\n",
    "The following is the preferred way to add an axis.\n",
    "\n",
    "Note that one can add it in two different ways."
   ]
  },
  {
   "cell_type": "code",
   "execution_count": 44,
   "metadata": {
    "collapsed": false
   },
   "outputs": [
    {
     "name": "stdout",
     "output_type": "stream",
     "text": [
      "y =  [[1]\n",
      " [2]\n",
      " [1]]\n",
      "z =  [[1 2 1]]\n"
     ]
    }
   ],
   "source": [
    "y = x[:,np.newaxis]\n",
    "print ('y = ',y)\n",
    "\n",
    "z = x[np.newaxis,:]\n",
    "print ('z = ',z)"
   ]
  },
  {
   "cell_type": "markdown",
   "metadata": {},
   "source": [
    "### Broadcasting\n",
    "This is an advanced topic but you should be aware that numpy tries to understand what you want to do (in a well-defined way), even if you are not strictly mathematically correct. A good introduction to broadcasting is at http://docs.scipy.org/doc/numpy-1.10.1/user/basics.broadcasting.html\n",
    "\n",
    "Since it is such a useful device, we'll spend some time on it, although probably not something one would normally include in a first introduction.\n",
    "\n",
    "**Note:**\n",
    "* Broadcasting allows one to write very concise, unreadable code. Use with care!\n",
    "\n",
    "**Example:**\n",
    "\n",
    "Let us start with a simple example. Earlier we defined a matrix $A$:"
   ]
  },
  {
   "cell_type": "code",
   "execution_count": 45,
   "metadata": {
    "collapsed": false
   },
   "outputs": [
    {
     "name": "stdout",
     "output_type": "stream",
     "text": [
      "[[ 1.  2.  3.]\n",
      " [ 1.  1.  1.]]\n"
     ]
    }
   ],
   "source": [
    "print (A)"
   ]
  },
  {
   "cell_type": "markdown",
   "metadata": {},
   "source": [
    "We want to add  $1$ to all the elements of $A$. The correct (mathematical) way of doing it, is to add a matrix with all elements equal to $1$ of the same shape as $A$:"
   ]
  },
  {
   "cell_type": "code",
   "execution_count": 46,
   "metadata": {
    "collapsed": false
   },
   "outputs": [
    {
     "name": "stdout",
     "output_type": "stream",
     "text": [
      "[[ 2.  3.  4.]\n",
      " [ 2.  2.  2.]]\n"
     ]
    }
   ],
   "source": [
    "print (A + np.ones(A.shape))"
   ]
  },
  {
   "cell_type": "markdown",
   "metadata": {},
   "source": [
    "### Success!\n",
    "There is however a much easier way of doing it, as you might have guessed:"
   ]
  },
  {
   "cell_type": "code",
   "execution_count": 47,
   "metadata": {
    "collapsed": false
   },
   "outputs": [
    {
     "name": "stdout",
     "output_type": "stream",
     "text": [
      "[[ 2.  3.  4.]\n",
      " [ 2.  2.  2.]]\n"
     ]
    }
   ],
   "source": [
    "print (A+1)"
   ]
  },
  {
   "cell_type": "markdown",
   "metadata": {},
   "source": [
    "Mathematically $A+1$ makes no sense, but numpy understands what you want to do and broadcasts the scalar $1$ to an array of the correct dimensions so that matrix addition is defined.\n",
    "\n",
    "**In general**\n",
    "\n",
    "How does broadcasting work in general? Before we answer this question, it is useful to recall that the $+$ and $*$ operators in numpy both perform pointwise operations. This means we can illustrate all the ideas behind broadcasting using $+$. As a reminder: In order to do matrix multiplication one uses the `dot` method.\n",
    "\n",
    "How does broadcasting work if one wants to add two general multidimensional arrays? It is easy if they have the same dimensions, but for broadcasting they need not have the same dimensions or even the same number of dimensions.\n",
    "\n",
    "The rule for broadcasting is the following: \n",
    "\n",
    "One starts at the back of the two arrays  and compare their dimensions element wise. The two dimensions are compatible, if\n",
    "\n",
    "1. The two dimensions are the same\n",
    "2. One of the two dimensions is 1. \n",
    "\n",
    "A few examples will make this clear.\n",
    "\n",
    "**Example 1**\n",
    "\n",
    "```\n",
    "A (2D array): 4 x 1\n",
    "B (1D array):     3\n",
    "Result:       4 x 3 array\n",
    "```\n",
    "Since $A$ is a column vector, its column is repeated 3 times resulting in an $4\\times 3$ array with identical columns. Then the  1D array $B$ is expanded into an $4\\times 3$ array where every *row* of the expanded $B$ is a copy of the original $B$. \n",
    "\n",
    "In reality numpy does not really do the expanding explicitly; it would be wasteful. But that is the idea. \n",
    "\n"
   ]
  },
  {
   "cell_type": "code",
   "execution_count": 48,
   "metadata": {
    "collapsed": false
   },
   "outputs": [
    {
     "name": "stdout",
     "output_type": "stream",
     "text": [
      "A: (4, 1)\n",
      "B: (3,)\n",
      "A+B: (4, 3)\n",
      "[[2 3 4]\n",
      " [2 3 4]\n",
      " [2 3 4]\n",
      " [2 3 4]]\n"
     ]
    }
   ],
   "source": [
    "A = np.array([1,1,1,1])\n",
    "A = A[:,np.newaxis]\n",
    "B = np.array([1,2,3])\n",
    "print ('A:', A.shape)\n",
    "print ('B:', B.shape)\n",
    "print ('A+B:',(A+B).shape)\n",
    "print (A+B)"
   ]
  },
  {
   "cell_type": "markdown",
   "metadata": {},
   "source": [
    "**Example 2**\n",
    "\n",
    "```\n",
    "A (3D array):   2 x 1 x 2\n",
    "B (2D array):       3 x 1\n",
    "A+B (3D array): 2 x 3 x 2 \n",
    "```\n",
    "What happens in this case is that first $B$ is expanded into an $3\\times 2$ array by copying its column. Then it is expanded into an $2\\times 3 \\times 2$ array by copying the whole thing twice. Then $A$ is expanded into an $2\\times 3 \\times 2$ array, by copying itself 3 times. "
   ]
  },
  {
   "cell_type": "code",
   "execution_count": 70,
   "metadata": {
    "collapsed": false
   },
   "outputs": [
    {
     "name": "stdout",
     "output_type": "stream",
     "text": [
      "A:   (2, 1, 2)\n",
      "B:      (3, 1)\n",
      "A+B: (2, 3, 2)\n",
      "[[[2 3]\n",
      "  [2 3]\n",
      "  [2 3]]\n",
      "\n",
      " [[4 5]\n",
      "  [4 5]\n",
      "  [4 5]]]\n"
     ]
    }
   ],
   "source": [
    "A = np.array([[1,2],[3,4]])\n",
    "A = A[:,np.newaxis,:]\n",
    "B = np.array([1,1,1])\n",
    "B = B[:,np.newaxis]\n",
    "print ('A:  ', A.shape)\n",
    "print ('B:     ', B.shape)\n",
    "print ('A+B:',(A+B).shape)\n",
    "print (A+B)"
   ]
  },
  {
   "cell_type": "markdown",
   "metadata": {},
   "source": [
    "Let us  do the expansions explicitly.\n",
    "\n",
    "$B$ first:"
   ]
  },
  {
   "cell_type": "code",
   "execution_count": 87,
   "metadata": {
    "collapsed": false
   },
   "outputs": [
    {
     "name": "stdout",
     "output_type": "stream",
     "text": [
      "[[1. 1.]\n",
      " [1. 1.]\n",
      " [1. 1.]]\n"
     ]
    }
   ],
   "source": [
    "Bexp = np.zeros((3,2))\n",
    "Bexp[:,0] = B[:,0]\n",
    "Bexp[:,1] = B[:,0]\n",
    "print(Bexp)"
   ]
  },
  {
   "cell_type": "code",
   "execution_count": 50,
   "metadata": {
    "collapsed": false
   },
   "outputs": [],
   "source": [
    "#First expand into an 3x2 array\n",
    "Bexp = np.zeros((3,2))\n",
    "Bexp[:,0] = B[:,0]\n",
    "Bexp[:,1] = B[:,0]\n",
    "\n",
    "#Now expand into an 2x3x2 array\n",
    "Bfinal = np.zeros((2,3,2))\n",
    "Bfinal[0,:,:] = Bexp\n",
    "Bfinal[1,:,:] = Bexp"
   ]
  },
  {
   "cell_type": "markdown",
   "metadata": {},
   "source": [
    "Now we do the expansion for $A$, basically copying it 3 times:"
   ]
  },
  {
   "cell_type": "code",
   "execution_count": 51,
   "metadata": {
    "collapsed": false
   },
   "outputs": [
    {
     "name": "stdout",
     "output_type": "stream",
     "text": [
      "A+B: [[[2 3]\n",
      "  [2 3]\n",
      "  [2 3]]\n",
      "\n",
      " [[4 5]\n",
      "  [4 5]\n",
      "  [4 5]]]\n"
     ]
    }
   ],
   "source": [
    "Aexp = np.zeros((2,3,2))\n",
    "Aexp[:,0,:] = A[:,0,:]\n",
    "Aexp[:,1,:] = A[:,0,:]\n",
    "Aexp[:,2,:] = A[:,0,:]\n",
    "print ('A+B:',A+B)"
   ]
  },
  {
   "cell_type": "markdown",
   "metadata": {},
   "source": [
    "Not so hard after all, although it can be a bit of headache to keep track of things in multiple dimensions.\n",
    "\n",
    "**Hint:** It should normally be clear what the dimensions of your end result should be. Starting from that, it might not be so hard to figure out how the rest should be configured. You will probably need to add axes in the correct positions to make thing work out correctly."
   ]
  },
  {
   "cell_type": "markdown",
   "metadata": {},
   "source": [
    "### Homework:\n",
    "\n",
    "As a practical example where broadcasting comes in useful, you will now write a function that assigns a number observations into one of $k$ classes. Assume that each class is represented by a single feature vector - for instance, the sample mean of some points from the class. The simple assignment rule you will use is to assign future observations to the class whose feature vector is the closest to the observation.\n",
    "\n",
    "The straightforward way of doing this for a set of observations is to loop through them, and for each one calculate the distance to each of the $k$ class features (another loop). Try this by all means, especially if you are new to Python.\n",
    "\n",
    "The faster way of doing this is to use broadcasting, followed by the `np.norm` (to calculate the distances), and \n",
    "`np.argmin` (to calculate the closest class feature).\n",
    "\n",
    "Below some skeleton code is given and you are supposed to provide the missing code.  Note that np.newaxis may be useful to facilitate the broadcasting required.\n",
    "\n",
    "By the way, this code forms the core of $k$-means clustering."
   ]
  },
  {
   "cell_type": "code",
   "execution_count": 104,
   "metadata": {
    "collapsed": false
   },
   "outputs": [
    {
     "ename": "NameError",
     "evalue": "name 'dist' is not defined",
     "output_type": "error",
     "traceback": [
      "\u001b[0;31m---------------------------------------------------------------------------\u001b[0m",
      "\u001b[0;31mNameError\u001b[0m                                 Traceback (most recent call last)",
      "\u001b[0;32m<ipython-input-104-64627c31495a>\u001b[0m in \u001b[0;36m<module>\u001b[0;34m()\u001b[0m\n\u001b[1;32m     41\u001b[0m \u001b[0mdata\u001b[0m \u001b[0;34m=\u001b[0m \u001b[0mnp\u001b[0m\u001b[0;34m.\u001b[0m\u001b[0marray\u001b[0m\u001b[0;34m(\u001b[0m\u001b[0;34m[\u001b[0m\u001b[0;34m[\u001b[0m\u001b[0;36m0.5\u001b[0m\u001b[0;34m,\u001b[0m\u001b[0;36m1.5\u001b[0m\u001b[0;34m,\u001b[0m\u001b[0;36m2.1\u001b[0m\u001b[0;34m,\u001b[0m\u001b[0;36m0.1\u001b[0m\u001b[0;34m]\u001b[0m\u001b[0;34m,\u001b[0m\u001b[0;34m[\u001b[0m\u001b[0;36m0.5\u001b[0m\u001b[0;34m,\u001b[0m\u001b[0;36m2.9\u001b[0m\u001b[0;34m,\u001b[0m\u001b[0;36m3.9\u001b[0m\u001b[0;34m,\u001b[0m\u001b[0;34m-\u001b[0m\u001b[0;36m0.1\u001b[0m\u001b[0;34m]\u001b[0m\u001b[0;34m]\u001b[0m\u001b[0;34m)\u001b[0m\u001b[0;34m\u001b[0m\u001b[0m\n\u001b[1;32m     42\u001b[0m \u001b[0mmeans\u001b[0m \u001b[0;34m=\u001b[0m \u001b[0mnp\u001b[0m\u001b[0;34m.\u001b[0m\u001b[0marray\u001b[0m\u001b[0;34m(\u001b[0m\u001b[0;34m[\u001b[0m\u001b[0;34m[\u001b[0m\u001b[0;36m0\u001b[0m\u001b[0;34m,\u001b[0m\u001b[0;36m1\u001b[0m\u001b[0;34m,\u001b[0m\u001b[0;36m2\u001b[0m\u001b[0;34m]\u001b[0m\u001b[0;34m,\u001b[0m\u001b[0;34m[\u001b[0m\u001b[0;36m0\u001b[0m\u001b[0;34m,\u001b[0m\u001b[0;36m3\u001b[0m\u001b[0;34m,\u001b[0m\u001b[0;36m4\u001b[0m\u001b[0;34m]\u001b[0m\u001b[0;34m]\u001b[0m\u001b[0;34m)\u001b[0m\u001b[0;34m\u001b[0m\u001b[0m\n\u001b[0;32m---> 43\u001b[0;31m \u001b[0mlabels\u001b[0m \u001b[0;34m=\u001b[0m \u001b[0mnearest_feature\u001b[0m\u001b[0;34m(\u001b[0m\u001b[0mdata\u001b[0m\u001b[0;34m,\u001b[0m\u001b[0mmeans\u001b[0m\u001b[0;34m)\u001b[0m\u001b[0;34m\u001b[0m\u001b[0m\n\u001b[0m\u001b[1;32m     44\u001b[0m \u001b[0mprint\u001b[0m\u001b[0;34m(\u001b[0m\u001b[0mlabels\u001b[0m\u001b[0;34m)\u001b[0m\u001b[0;34m\u001b[0m\u001b[0m\n",
      "\u001b[0;32m<ipython-input-104-64627c31495a>\u001b[0m in \u001b[0;36mnearest_feature\u001b[0;34m(data, means)\u001b[0m\n\u001b[1;32m     34\u001b[0m \u001b[0;34m\u001b[0m\u001b[0m\n\u001b[1;32m     35\u001b[0m \u001b[0;34m\u001b[0m\u001b[0m\n\u001b[0;32m---> 36\u001b[0;31m     \u001b[0merr\u001b[0m \u001b[0;34m=\u001b[0m \u001b[0mnp\u001b[0m\u001b[0;34m.\u001b[0m\u001b[0mlinalg\u001b[0m\u001b[0;34m.\u001b[0m\u001b[0mnorm\u001b[0m\u001b[0;34m(\u001b[0m\u001b[0mdist\u001b[0m\u001b[0;34m,\u001b[0m\u001b[0maxis\u001b[0m\u001b[0;34m=\u001b[0m\u001b[0;36m1\u001b[0m\u001b[0;34m)\u001b[0m\u001b[0;34m\u001b[0m\u001b[0m\n\u001b[0m\u001b[1;32m     37\u001b[0m     \u001b[0mlabels\u001b[0m \u001b[0;34m=\u001b[0m \u001b[0mnp\u001b[0m\u001b[0;34m.\u001b[0m\u001b[0margmin\u001b[0m\u001b[0;34m(\u001b[0m\u001b[0merr\u001b[0m\u001b[0;34m,\u001b[0m\u001b[0maxis\u001b[0m\u001b[0;34m=\u001b[0m\u001b[0;36m1\u001b[0m\u001b[0;34m)\u001b[0m\u001b[0;34m\u001b[0m\u001b[0m\n\u001b[1;32m     38\u001b[0m     \u001b[0;32mreturn\u001b[0m \u001b[0mlabels\u001b[0m\u001b[0;34m\u001b[0m\u001b[0m\n",
      "\u001b[0;31mNameError\u001b[0m: name 'dist' is not defined"
     ]
    }
   ],
   "source": [
    "def nearest_feature(data, means):\n",
    "    '''\n",
    "    Classify data values to the class represented by the nearest prototype \n",
    "    feature vector.\n",
    "    \n",
    "    Parameters\n",
    "    ----------\n",
    "    data : (d,N) ndarray \n",
    "         N feature vectors each of dimension d. Each feature vector is assigned\n",
    "         to one of k classes.\n",
    "    means : (d,k) ndarray\n",
    "         k prototype feature vectors representing the k different classes.\n",
    "         \n",
    "    Return\n",
    "    ------\n",
    "    labels : (N,) int array\n",
    "           The class labels for each feature. \n",
    "           \n",
    "    Note \n",
    "    ----\n",
    "    This function uses broadcasting to efficiently do the assignments.\n",
    "    \n",
    "    Example\n",
    "    -------\n",
    "    >>>data = np.array([[0.5,1.5,2.1,0.1],[0.5,2.9,3.9,-0.1]])\n",
    "    >>>means = np.array([[0,1,2],[0,3,4]])\n",
    "    >>>labels = nearest_feature(data,means)\n",
    "    >>>print(labels)\n",
    "    Out:\n",
    "       [0 1 2 0]\n",
    "    '''\n",
    "    data = data.T   \n",
    "    # Insert one line of code here\n",
    "    \n",
    "\n",
    "    err = np.linalg.norm(dist,axis=1)\n",
    "    labels = np.argmin(err,axis=1)\n",
    "    return labels\n",
    "  \n",
    "import numpy as np\n",
    "data = np.array([[0.5,1.5,2.1,0.1],[0.5,2.9,3.9,-0.1]])\n",
    "means = np.array([[0,1,2],[0,3,4]])\n",
    "labels = nearest_feature(data,means)\n",
    "print(labels)"
   ]
  },
  {
   "cell_type": "markdown",
   "metadata": {},
   "source": [
    "### Operating system\n",
    "You also have access to your operating system commands, for example:"
   ]
  },
  {
   "cell_type": "code",
   "execution_count": 54,
   "metadata": {
    "collapsed": false
   },
   "outputs": [
    {
     "data": {
      "text/plain": [
       "'/home/kroon/work/sun/courses/machine_learning/assignments/2019/assignment0'"
      ]
     },
     "execution_count": 54,
     "metadata": {},
     "output_type": "execute_result"
    }
   ],
   "source": [
    "pwd"
   ]
  },
  {
   "cell_type": "code",
   "execution_count": 55,
   "metadata": {
    "collapsed": false
   },
   "outputs": [
    {
     "name": "stdout",
     "output_type": "stream",
     "text": [
      "notes.txt  Python tutorial for Assignment 0.ipynb\r\n"
     ]
    }
   ],
   "source": [
    "ls"
   ]
  },
  {
   "cell_type": "markdown",
   "metadata": {
    "collapsed": true
   },
   "source": [
    "### Using functions and widgets\n",
    "\n",
    "We now turn to a nontrivial example illustrating both the use of functions, as well as widgets. At the same time it is a great demonstration of the difference between pointwise and uniform convergence.\n",
    "\n",
    "The sine series of the periodic function ($f(x)=f(x+2 \\pi$),\n",
    "\n",
    "$$f(x) = \\left\\{ \\begin{array}{rc} -0.5 & -\\pi<x<0\\\\ 0.5 & 0<x<\\pi \\end{array} \\right., $$\n",
    "is given by \n",
    "\n",
    "$$\n",
    "f(x) = \\sum_{n=1}^{\\infty} b_n \\sin(x),$$\n",
    "with\n",
    "$$b_n = \\frac{1}{n\\pi} (1-\\cos(n\\pi)).$$"
   ]
  },
  {
   "cell_type": "markdown",
   "metadata": {},
   "source": [
    "First we need to import the necessary widget.\n",
    "\n",
    "(I like to import everything I am going to need right at the beginning but it is clearly not necessary. It makes it easier for me to tell which libraries I am using, and easier to update if some of the libraries or functions inside the libraries, have been moved. Although it can be quite annoying, it happens rather frequently.)"
   ]
  },
  {
   "cell_type": "code",
   "execution_count": 90,
   "metadata": {
    "collapsed": false
   },
   "outputs": [],
   "source": [
    "from ipywidgets import interact"
   ]
  },
  {
   "cell_type": "markdown",
   "metadata": {},
   "source": [
    "First we define the function that calculates the sum of the first $k$ terms of the sine series.\n",
    "\n",
    "The function calculates the sum of the first $k$ terms at points = 256 values evenly distributed over the interval $(-1,1)$, using the built-in numpy function, `linspace'.\n",
    "\n",
    "`range` is a built-in Python function and returns an integer array between the states limits."
   ]
  },
  {
   "cell_type": "code",
   "execution_count": 94,
   "metadata": {
    "collapsed": true
   },
   "outputs": [],
   "source": [
    "def jump(k  = 1):\n",
    "   \"\"\"The function calculates and plots the first k terms of the sine series\n",
    "      of a step function, jump size one.\n",
    "      \n",
    "      Parameters\n",
    "      ----------\n",
    "      k:   int\n",
    "           the number of terms included in the Fourier series\n",
    "           \n",
    "      Return\n",
    "      ------\n",
    "      A plot of the first k terms of the sime series.\n",
    "   \"\"\"\n",
    "   pi = np.pi\n",
    "   points = 256  # The number of spatial points\n",
    "\n",
    "   x = np.linspace(-pi,pi,points,endpoint=False)\n",
    "\n",
    "   f = 0\n",
    "   for n in range(1,k+1):\n",
    "      f = f+np.sin(n*x)*(1.- (-1)**n)/(pi*n)\n",
    "   plt.plot(x,f)\n",
    "   plt.title('Fourier approximation, using '+str(k)+' terms',size=10)\n",
    "   plt.xlabel('x',size=25)     \n",
    "   plt.show()"
   ]
  },
  {
   "cell_type": "markdown",
   "metadata": {},
   "source": [
    "'interact' does exactly that: It interacts with the given function, 'jump' in this case, for parameter values in the specified range. Once you set the parameter value by sliding the bar, the function 'jump' is executed. Note therefore that the plotting is part of 'jump'. If not, nothing will be plotted and you won't see a thing!\n",
    "\n",
    "Could not be simpler!"
   ]
  },
  {
   "cell_type": "code",
   "execution_count": 95,
   "metadata": {
    "collapsed": false
   },
   "outputs": [
    {
     "data": {
      "image/png": "[encoded data removed]",
      "text/plain": [
       "<Figure size 432x288 with 1 Axes>"
      ]
     },
     "metadata": {},
     "output_type": "display_data"
    }
   ],
   "source": [
    "w = interact(jump, k =(1, 32))"
   ]
  },
  {
   "cell_type": "markdown",
   "metadata": {
    "collapsed": true
   },
   "source": [
    "### Classes\n",
    "\n",
    "Classes have a particularly simple syntax in Python."
   ]
  },
  {
   "cell_type": "code",
   "execution_count": 98,
   "metadata": {
    "collapsed": true
   },
   "outputs": [],
   "source": [
    "'''Module containing a DensityFunc abstract class, with common probability densities\n",
    "\n",
    "@since: Jan 10, 2013\n",
    "\n",
    "@author: kroon, herbst\n",
    "'''\n",
    "\n",
    "from __future__ import division\n",
    "\n",
    "import numpy as np\n",
    "\n",
    "\n",
    "class Gaussian(object):\n",
    "    '''\n",
    "    Class for representing a multi-dimensional Gaussian distribution of dimension d.\n",
    "    The class can instanciated by providing the means and covariance.\n",
    "    If the mean and covariance are not given then a Gaussian model can be fitted\n",
    "    to the data. \n",
    "    \n",
    "    Note: The covariance matrix has to be  symmetric, positive definite and \n",
    "          non-singular.\n",
    "    \n",
    "    Parameters\n",
    "    ----------\n",
    "    \n",
    "    mean : (d,) ndarray\n",
    "       mean of the distribution\n",
    "    cov  : (d,d) ndarray\n",
    "       Covariance matrix. \n",
    "    \n",
    "    Methods\n",
    "    -------\n",
    "    fit\n",
    "       Fit a Gaussian model to the data.\n",
    "    \n",
    "    f \n",
    "       Returns the value of the density function\n",
    "    logf\n",
    "       Returns the log of the density function\n",
    "    likelihood\n",
    "       Returns the likelihood of the data\n",
    "    loglik\n",
    "       Reurns the log-likelihood of the data\n",
    "    sample\n",
    "       Returns samples drawn from the normal distribution with the given\n",
    "       mean and covariance\n",
    "    \n",
    "    \n",
    "    Example\n",
    "    -------\n",
    "    >>> import gaussian as gauss\n",
    "    >>> # Scalar example\n",
    "    >>>mean = np.array([10.])\n",
    "    >>>cov  = np.array([[1.]])\n",
    "    >>>ga   = gauss.Gaussian(mean,cov)\n",
    "    >>>print (ga.f([10.]))\n",
    "       0.398942280401        \n",
    "    >>>x = np.array([[10.],[10.],[10.]])\n",
    "    >>>print (ga.likelihood(x))\n",
    "       0.0634936359342\n",
    "    >>># Multivariate example\n",
    "    >>>mean = np.array([10.0, 10.0])\n",
    "    >>>cov  = np.array([[  1.,   0.],[  0.,  10.]])\n",
    "    >>>ga   = gauss.Gaussian(mean,cov)\n",
    "    >>>print (ga.f(np.array([10.,10.])))\n",
    "       0.050329212104487035\n",
    "    >>>x = np.array([[10.,10.],[10.,10.],[10.,10.],[10.,10.]])\n",
    "    >>>print (ga.likelihood(x))\n",
    "       6.4162389091777101e-06\n",
    "    '''\n",
    "    def __init__(self, mean=None, cov=None):\n",
    "        \n",
    "        if mean is not None and cov is not None:\n",
    "            mean = np.array(mean); cov = np.array(cov)\n",
    "            d,n = cov.shape\n",
    "        \n",
    "            self._dim = d\n",
    "            self._mean = mean.flatten()\n",
    "            self._cov = cov\n",
    "            self._covdet = np.linalg.det(2.0*np.pi*cov)\n",
    "        \n",
    "            if self._covdet < 10e-12:\n",
    "                \n",
    "                raise ValueError('The covariance matrix is singular.')\n",
    "    def fit(self,data):\n",
    "        '''\n",
    "        Fit data to the Gaussian model and return the sample mean and covariance\n",
    "        of the data.\n",
    "        \n",
    "        Parameters\n",
    "        ----------\n",
    "        data: (n,d) ndarray\n",
    "              n samples, each of dimension d\n",
    "              \n",
    "        '''\n",
    "        self._mean = np.mean(data,axis=0)\n",
    "        self._cov  = np.cov(data.T)\n",
    "        \n",
    "        \n",
    "            \n",
    "    def f(self, x):\n",
    "        '''\n",
    "        Calculate the value of the normal distributions at x\n",
    "        \n",
    "        Parameters\n",
    "        ----------\n",
    "        x : (d,) ndarray\n",
    "           Evaluate a single d-dimensional samples x\n",
    "           \n",
    "        Returns\n",
    "        -------\n",
    "        val : scalar\n",
    "           The value of the normal distribution at x.\n",
    "        \n",
    "        '''\n",
    "        \n",
    "        return np.exp(self.logf(x))\n",
    "    \n",
    "    def logf(self, x):\n",
    "        '''\n",
    "        Calculate  the log-density at x\n",
    "        \n",
    "        Parameters\n",
    "        ----------\n",
    "        x : (d,) ndarray\n",
    "           Evaluate the log-normal distribution at a single d-dimensional \n",
    "           sample x\n",
    "           \n",
    "        Returns\n",
    "        -------\n",
    "        val : scalar\n",
    "           The value of the log of the normal distribution at x.\n",
    "        '''\n",
    "        #x = x[:,np.newaxis]\n",
    "        trans = x - self._mean\n",
    "        mal   = -trans.dot(np.linalg.solve(self._cov,trans))/2.\n",
    "        return -0.5*np.log(self._covdet) + mal\n",
    "\n",
    "\n",
    "    def likelihood(self, x):\n",
    "        '''\n",
    "        Calculates the likelihood of the data set x for the normal\n",
    "        distribution.\n",
    "        \n",
    "        Parameters\n",
    "        ----------\n",
    "        x :  (n,d) ndarray\n",
    "           Calculate the likelihood of n, d-dimensional samples\n",
    "           \n",
    "        Returns\n",
    "        -------\n",
    "        val : scalar\n",
    "           The likelihood value   \n",
    "        '''\n",
    "        return np.exp(self.loglik(x))\n",
    "\n",
    "    def loglik(self, x):\n",
    "        '''\n",
    "        Calculates  the log-likelihood of the data set x for the normal \n",
    "        distribution.\n",
    "        \n",
    "        Parameters\n",
    "        ----------\n",
    "        x :  (d,n) ndarray\n",
    "           Calculate the likelihood of n, d-dimensional samples\n",
    "           \n",
    "        Returns\n",
    "        -------\n",
    "        val : scalar\n",
    "           The log-likelihood value\n",
    "        '''\n",
    "        return np.sum(np.apply_along_axis(self.logf, 1, x))\n",
    "\n",
    "\n",
    "    def sample(self, n=1):\n",
    "        '''\n",
    "        Calculates n independent points sampled from the normal distribution\n",
    "        \n",
    "        Parameters\n",
    "        ----------\n",
    "        n : int\n",
    "           The number of samples\n",
    "           \n",
    "        Returns\n",
    "        -------\n",
    "        samples : (n,d) ndarray\n",
    "           n, d-dimensional samples\n",
    "        \n",
    "        '''\n",
    "\n",
    "        return np.random.multivariate_normal(self._mean, self._cov, n)\n",
    "        \n",
    "    def get_params(self):\n",
    "        '''\n",
    "        Returns the parameters of the Gaussian\n",
    "        \n",
    "        Returns\n",
    "        -------\n",
    "        mean: (d,) ndarray\n",
    "              The mean \n",
    "        cov: (d,d) ndarray\n",
    "             The covariance\n",
    "        '''\n",
    "        \n",
    "        return self._mean, self._cov\n",
    "    \n",
    "\n"
   ]
  },
  {
   "cell_type": "markdown",
   "metadata": {},
   "source": [
    "### Example"
   ]
  },
  {
   "cell_type": "code",
   "execution_count": 99,
   "metadata": {
    "collapsed": false
   },
   "outputs": [
    {
     "name": "stdout",
     "output_type": "stream",
     "text": [
      "[1. 1.]\n",
      "[[ 1. -1.]\n",
      " [-1.  1.]]\n"
     ]
    }
   ],
   "source": [
    "data = np.array([[0, 2], [1, 1], [2, 0]])\n",
    "ga = Gaussian()\n",
    "ga.fit(data)\n",
    "mean, cov = ga.get_params()\n",
    "print (mean)\n",
    "print (cov)\n"
   ]
  },
  {
   "cell_type": "markdown",
   "metadata": {},
   "source": [
    "### Example"
   ]
  },
  {
   "cell_type": "code",
   "execution_count": 100,
   "metadata": {
    "collapsed": false
   },
   "outputs": [
    {
     "name": "stdout",
     "output_type": "stream",
     "text": [
      "[1. 1.]\n",
      "[[ 1.02523599 -1.02523599]\n",
      " [-1.02523599  1.02523599]]\n"
     ]
    }
   ],
   "source": [
    "samples = ga.sample(10000)\n",
    "ga2 = Gaussian()\n",
    "ga2.fit(samples)\n",
    "means, cov = ga2.get_params()\n",
    "print (mean)\n",
    "print (cov)"
   ]
  },
  {
   "cell_type": "markdown",
   "metadata": {},
   "source": [
    "### Univariate example: "
   ]
  },
  {
   "cell_type": "code",
   "execution_count": 101,
   "metadata": {
    "collapsed": false
   },
   "outputs": [
    {
     "name": "stdout",
     "output_type": "stream",
     "text": [
      "f(10) = 0.3989422804014327\n",
      "likelihood =  0.06349363593424098\n"
     ]
    }
   ],
   "source": [
    "mean = np.array([10.])\n",
    "cov  = np.array([[1.]])\n",
    "ga   = Gaussian(mean,cov)\n",
    "\n",
    "print ('f(10) =', ga.f([10.]))\n",
    "        \n",
    "x = np.array([[10.],[10.],[10.]])\n",
    "print ('likelihood = ',ga.likelihood(x))"
   ]
  },
  {
   "cell_type": "markdown",
   "metadata": {},
   "source": [
    "### Multivariate example:"
   ]
  },
  {
   "cell_type": "code",
   "execution_count": 102,
   "metadata": {
    "collapsed": false
   },
   "outputs": [
    {
     "name": "stdout",
     "output_type": "stream",
     "text": [
      "f([10,10])= 0.050329212104487035\n",
      "likelihood =  6.41623890917771e-06\n"
     ]
    }
   ],
   "source": [
    "mean = np.array([10.0, 10.0])\n",
    "cov  = np.array([[  1.,   0.],[  0.,  10.]])\n",
    "ga   = Gaussian(mean,cov)\n",
    "print ('f([10,10])=',ga.f(np.array([10.,10.])))\n",
    "        \n",
    "x = np.array([[10.,10.],[10.,10.],[10.,10.],[10.,10.]])\n",
    "print ('likelihood = ',ga.likelihood(x))\n",
    "        "
   ]
  },
  {
   "cell_type": "markdown",
   "metadata": {},
   "source": [
    "We now use the sample method to provide us with samples from a multivariate normal distribution. These samples are visually displayed using the 2d histogram method provided by `numpy`. Note that the half million samples are provided quite quickly."
   ]
  },
  {
   "cell_type": "code",
   "execution_count": 103,
   "metadata": {
    "collapsed": false
   },
   "outputs": [
    {
     "name": "stdout",
     "output_type": "stream",
     "text": [
      "(500, 152)\n"
     ]
    },
    {
     "data": {
      "image/png": "[encoded data removed]",
      "text/plain": [
       "<Figure size 432x288 with 1 Axes>"
      ]
     },
     "metadata": {},
     "output_type": "display_data"
    }
   ],
   "source": [
    "g1 = Gaussian([5,1],[[10,0],[0,1]])\n",
    "s1 = g1.sample(500000).T\n",
    "xmin = np.min(s1[0])\n",
    "xmax = np.max(s1[0])\n",
    "ymin = np.min(s1[1])\n",
    "ymax = np.max(s1[1])\n",
    "xbin = 500\n",
    "ybin = np.int(xbin*(ymax-ymin)/(xmax-xmin))\n",
    "H,xedge,yedge = np.histogram2d(s1[0], s1[1], bins=[xbin,ybin], range = [[xmin,xmax],[ymin,ymax]],normed=False)\n",
    "print (H.shape)\n",
    "plt.imshow(H.T,cmap='hot', extent = [xmin,xmax,ymin,ymax], interpolation='nearest')\n",
    "plt.show()"
   ]
  },
  {
   "cell_type": "code",
   "execution_count": null,
   "metadata": {
    "collapsed": true
   },
   "outputs": [],
   "source": []
  }
 ],
 "metadata": {
  "kernelspec": {
   "display_name": "Python 3",
   "language": "python",
   "name": "python3"
  },
  "language_info": {
   "codemirror_mode": {
    "name": "ipython",
    "version": 3
   },
   "file_extension": ".py",
   "mimetype": "text/x-python",
   "name": "python",
   "nbconvert_exporter": "python",
   "pygments_lexer": "ipython3",
   "version": "3.5.2"
  },
  "widgets": {
   "state": {
    "bf8419530b2546099af5bf91dfb78ea6": {
     "views": [
      {
       "cell_index": 107
      }
     ]
    }
   },
   "version": "1.2.0"
  }
 },
 "nbformat": 4,
 "nbformat_minor": 0
}
